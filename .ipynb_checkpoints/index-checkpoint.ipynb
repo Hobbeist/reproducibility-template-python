{
 "cells": [
  {
   "cell_type": "markdown",
   "id": "d228d915-7d88-4a6e-a984-ae019da74766",
   "metadata": {},
   "source": [
    "# Test Jupyter Notebook"
   ]
  },
  {
   "cell_type": "code",
   "execution_count": null,
   "id": "69b42f4c-d7fe-4a7b-93de-fd3333c2f4e9",
   "metadata": {},
   "outputs": [],
   "source": [
    "import numpy as np"
   ]
  }
 ],
 "metadata": {
  "kernelspec": {
   "display_name": "Python 3 (ipykernel)",
   "language": "python",
   "name": "python3"
  },
  "language_info": {
   "codemirror_mode": {
    "name": "ipython",
    "version": 3
   },
   "file_extension": ".py",
   "mimetype": "text/x-python",
   "name": "python",
   "nbconvert_exporter": "python",
   "pygments_lexer": "ipython3",
   "version": "3.11.5"
  }
 },
 "nbformat": 4,
 "nbformat_minor": 5
}
